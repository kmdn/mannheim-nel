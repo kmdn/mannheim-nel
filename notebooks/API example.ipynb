{
 "cells": [
  {
   "cell_type": "code",
   "execution_count": 56,
   "metadata": {},
   "outputs": [],
   "source": [
    "import requests\n",
    "import json\n",
    "from IPython.core.display import display, HTML"
   ]
  },
  {
   "cell_type": "code",
   "execution_count": 57,
   "metadata": {},
   "outputs": [],
   "source": [
    "URL = \"http://127.0.0.1:5000/link\""
   ]
  },
  {
   "cell_type": "code",
   "execution_count": 58,
   "metadata": {},
   "outputs": [],
   "source": [
    "def get_response(text):\n",
    "    data_json = json.dumps({'text': text})\n",
    "    response_json = requests.post(URL, data=data_json).json()\n",
    "    ents = response_json['entities']\n",
    "    mentions = response_json['mentions']\n",
    "    spans = response_json['spans']\n",
    "    \n",
    "    return ents, mentions, spans"
   ]
  },
  {
   "cell_type": "code",
   "execution_count": 64,
   "metadata": {},
   "outputs": [],
   "source": [
    "def inject_links(ents, mentions, spans, text):\n",
    "    res = \"\"\n",
    "    begin = 0\n",
    "    for (s_begin, s_end), mention, ent in zip(spans, mentions, ents):\n",
    "        res += text[begin:s_begin]\n",
    "        res += f'<a href=https://en.wikipedia.org/wiki/{ent}>{mention}</a>'\n",
    "        begin = s_end\n",
    "    res += text[s_end:]\n",
    "    return res    "
   ]
  },
  {
   "cell_type": "code",
   "execution_count": 65,
   "metadata": {},
   "outputs": [],
   "source": [
    "text = \"Venture capitalist Michael Moritz said that today's billion-dollar \" \\\n",
    "       \"startups can learn from Apple founder Steve Jobs.\""
   ]
  },
  {
   "cell_type": "code",
   "execution_count": 66,
   "metadata": {},
   "outputs": [],
   "source": [
    "ents, mentions, spans = get_response_full(text)"
   ]
  },
  {
   "cell_type": "code",
   "execution_count": 67,
   "metadata": {},
   "outputs": [
    {
     "data": {
      "text/html": [
       "Venture capitalist <a href=https://en.wikipedia.org/wiki/Michael_Moritz>Michael Moritz</a> said that today's billion-dollar startups can learn from <a href=https://en.wikipedia.org/wiki/Apple_Inc.>Apple</a> founder <a href=https://en.wikipedia.org/wiki/Steve_Jobs>Steve Jobs</a>."
      ],
      "text/plain": [
       "<IPython.core.display.HTML object>"
      ]
     },
     "metadata": {},
     "output_type": "display_data"
    }
   ],
   "source": [
    "display(HTML(inject_links(ents, mentions, spans, text)))"
   ]
  }
 ],
 "metadata": {
  "kernelspec": {
   "display_name": "Python (mannheim-nel)",
   "language": "python",
   "name": "mannheim-nel"
  },
  "language_info": {
   "codemirror_mode": {
    "name": "ipython",
    "version": 3
   },
   "file_extension": ".py",
   "mimetype": "text/x-python",
   "name": "python",
   "nbconvert_exporter": "python",
   "pygments_lexer": "ipython3",
   "version": "3.6.7"
  }
 },
 "nbformat": 4,
 "nbformat_minor": 2
}
