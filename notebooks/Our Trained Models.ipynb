{
 "cells": [
  {
   "cell_type": "code",
   "execution_count": 4,
   "metadata": {},
   "outputs": [],
   "source": [
    "import pickle\n",
    "import sys"
   ]
  },
  {
   "cell_type": "code",
   "execution_count": 2,
   "metadata": {},
   "outputs": [],
   "source": [
    "with open('../data/models/nel-ws-wiki.pickle', 'rb') as f:\n",
    "    model = pickle.load(f)"
   ]
  },
  {
   "cell_type": "code",
   "execution_count": 3,
   "metadata": {},
   "outputs": [
    {
     "data": {
      "text/plain": [
       "dict_keys(['embeddings_word.weight', 'embeddings_ent.weight', 'orig_linear.weight', 'orig_linear.bias', 'hidden.weight', 'hidden.bias', 'output.weight', 'output.bias'])"
      ]
     },
     "execution_count": 3,
     "metadata": {},
     "output_type": "execute_result"
    }
   ],
   "source": [
    "model.keys()"
   ]
  },
  {
   "cell_type": "code",
   "execution_count": 5,
   "metadata": {},
   "outputs": [],
   "source": [
    "emb_word = model['embeddings_word.weight']\n",
    "emb_ent = model['embeddings_ent.weight']\n",
    "orig_weight = model['orig_linear.weight']\n",
    "orig_bias = model['orig_linear.bias']\n",
    "hidden_weight = model['hidden.weight']\n",
    "hidden_bias = model['hidden.bias']\n",
    "output_weight = model['output.weight']\n",
    "output_bias = model['output.bias']"
   ]
  },
  {
   "cell_type": "code",
   "execution_count": 6,
   "metadata": {},
   "outputs": [],
   "source": [
    "modified_params = {'orig_weight': orig_weight,\n",
    "                   'orig_bias': orig_bias,\n",
    "                   'hidden_weight': hidden_weight,\n",
    "                   'hidden_bias': hidden_bias,\n",
    "                   'output_weight': output_weight,\n",
    "                   'output_bias': output_bias}"
   ]
  },
  {
   "cell_type": "code",
   "execution_count": 15,
   "metadata": {},
   "outputs": [
    {
     "name": "stdout",
     "output_type": "stream",
     "text": [
      "embeddings_word.weight 846\n",
      "embeddings_ent.weight 1148\n",
      "orig_linear.weight 0\n",
      "orig_linear.bias 0\n",
      "hidden.weight 2\n",
      "hidden.bias 0\n",
      "output.weight 0\n",
      "output.bias 0\n"
     ]
    }
   ],
   "source": [
    "for k, v in model.items():\n",
    "    print(k, v.size *4 // 10**6)"
   ]
  }
 ],
 "metadata": {
  "kernelspec": {
   "display_name": "Python [conda env:nel-WS]",
   "language": "python",
   "name": "conda-env-nel-WS-py"
  },
  "language_info": {
   "codemirror_mode": {
    "name": "ipython",
    "version": 3
   },
   "file_extension": ".py",
   "mimetype": "text/x-python",
   "name": "python",
   "nbconvert_exporter": "python",
   "pygments_lexer": "ipython3",
   "version": "3.6.6"
  }
 },
 "nbformat": 4,
 "nbformat_minor": 2
}
