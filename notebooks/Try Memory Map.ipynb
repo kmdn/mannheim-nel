{
 "cells": [
  {
   "cell_type": "code",
   "execution_count": 15,
   "metadata": {},
   "outputs": [],
   "source": [
    "import os\n",
    "import mmap\n",
    "import pickle\n",
    "import operator\n",
    "from functools import lru_cache\n",
    "import sys\n",
    "sys.path.append('/home/rohitalyosha/Student_Job/mannheim-nel/')\n",
    "from utils import *\n",
    "from logging import getLogger\n",
    "log = getLogger()\n",
    "from sqlitedict import SqliteDict"
   ]
  },
  {
   "cell_type": "code",
   "execution_count": 16,
   "metadata": {},
   "outputs": [],
   "source": [
    "rd = json_load('/home/rohitalyosha/Student_Job/mannheim-nel/data/dicts/redirects.json')\n",
    "rd_sql = SqliteDict('/home/rohitalyosha/Student_Job/mannheim-nel/data/db/redirects.sqlite')"
   ]
  },
  {
   "cell_type": "code",
   "execution_count": 8,
   "metadata": {},
   "outputs": [],
   "source": [
    "class FileObjectStore(object):\n",
    "    def __init__(self, path):\n",
    "        self.path = path\n",
    "        self.store = mmdict(path)\n",
    "\n",
    "    @classmethod\n",
    "    def get_protocol(cls):\n",
    "        return 'file'\n",
    "\n",
    "    def iter_ids(self):\n",
    "        return self.store.keys()\n",
    "\n",
    "    def exists(self, oid):\n",
    "        return oid in self.store\n",
    "\n",
    "    def fetch(self, oid):\n",
    "        return self.store[oid]\n",
    "\n",
    "    def fetch_many(self, oids):\n",
    "        return [self.fetch(oid) for oid in oids]\n",
    "\n",
    "    def fetch_all(self):\n",
    "        return self.store.items()\n",
    "\n",
    "    def save_many(self, obj_iter):\n",
    "        self.store.close()\n",
    "        mmdict.write(self.path, ((k, v) for k, v in obj_iter))\n",
    "        self.store = mmdict(self.path)\n",
    "\n",
    "    def save(self,obj):\n",
    "        self.save_many([obj])\n",
    "       \n",
    "    @classmethod\n",
    "    def GetPath(cls, store_id, uri):\n",
    "        path = store_id.replace(':', '/')\n",
    "        if uri and uri.startswith('file://'):\n",
    "            path = os.path.join(uri[7:], path)\n",
    "        return path\n",
    "\n",
    "    @classmethod\n",
    "    def Get(cls, store_id, uri='file://', **kwargs):\n",
    "        return cls(cls.GetPath(store_id, uri))\n",
    "\n",
    "class mmdict(object):\n",
    "    def __init__(self, path):\n",
    "        self.path = path\n",
    "        self.index = {}\n",
    "        \n",
    "        index_path = self.path + '.index'\n",
    "        if os.path.exists(index_path):\n",
    "            log.debug('Loading mmap store: %s ...' % index_path)\n",
    "            with open(index_path, 'rb') as f:\n",
    "                self.index = dict(self.deserialise(f))\n",
    "\n",
    "            self.data_file = open(path + '.data', 'rb')\n",
    "            self.data_mmap = mmap.mmap(self.data_file.fileno(), 0, prot=mmap.PROT_READ)\n",
    "        else:\n",
    "            log.warn('No existing mmap store found: %s ...' % index_path)\n",
    "\n",
    "    @staticmethod\n",
    "    def serialise(obj, f):\n",
    "        pickle.dump(obj, f, pickle.HIGHEST_PROTOCOL)\n",
    "\n",
    "    @staticmethod\n",
    "    def deserialise(f):\n",
    "        return pickle.load(f)\n",
    "\n",
    "    @staticmethod\n",
    "    def static_itervalues(path):\n",
    "        with open(path + '.data', 'rb') as f:\n",
    "            while True:\n",
    "                try:\n",
    "                    yield mmdict.deserialise(f)\n",
    "                except EOFError: break\n",
    "\n",
    "    def iteritems(self):\n",
    "        sorted_idx = sorted(self.index.iteritems(), key=operator.itemgetter(1))\n",
    "\n",
    "        for i, v in enumerate(self.itervalues()):\n",
    "            yield (sorted_idx[i][0], v)\n",
    "\n",
    "    def iterkeys(self):\n",
    "        return self.index.iterkeys()\n",
    "\n",
    "    def itervalues(self):\n",
    "        self.data_mmap.seek(0)\n",
    "        while True:\n",
    "            try:\n",
    "                yield self.deserialise(self.data_mmap)\n",
    "            except EOFError: break\n",
    "\n",
    "    def __len__(self):\n",
    "        return len(self.index)\n",
    "\n",
    "    def __contains__(self, key):\n",
    "        return key in self.index\n",
    "\n",
    "    @lru_cache(maxsize=20000)\n",
    "    def __getitem__(self, key):\n",
    "        if key not in self:\n",
    "            return None\n",
    "\n",
    "        self.data_mmap.seek(self.index[key])\n",
    "        return self.deserialise(self.data_mmap)\n",
    "\n",
    "    def __enter__(self):\n",
    "        return self\n",
    "\n",
    "    def close(self):\n",
    "        if hasattr(self, 'data_mmap') and self.data_mmap != None:\n",
    "            self.data_mmap.close()\n",
    "        if hasattr(self, 'data_file') and self.data_file != None:\n",
    "            self.data_file.close()\n",
    "\n",
    "    def __exit__(self, type, value, traceback):\n",
    "        self.close()\n",
    "\n",
    "    def __del__(self):\n",
    "        self.close()\n",
    "\n",
    "    @staticmethod\n",
    "    def write(path, iter_kvs):\n",
    "        index = []\n",
    "        with open(path + '.data', 'wb') as f:\n",
    "            for key, value in iter_kvs:\n",
    "                index.append((key, f.tell()))\n",
    "                mmdict.serialise(value, f)\n",
    "        with open(path + '.index','wb') as f:\n",
    "            mmdict.serialise(index, f)\n"
   ]
  },
  {
   "cell_type": "code",
   "execution_count": 24,
   "metadata": {},
   "outputs": [],
   "source": [
    "file_stores = {}\n",
    "dicts = {}\n",
    "dict_names = ['ent_dict', 'word_dict', 'redirects', 'str_prior', 'str_cond', 'disamb', 'str_necounts']"
   ]
  },
  {
   "cell_type": "code",
   "execution_count": 25,
   "metadata": {},
   "outputs": [
    {
     "name": "stdout",
     "output_type": "stream",
     "text": [
      "ent_dict\n",
      "word_dict\n",
      "redirects\n",
      "str_prior\n",
      "str_cond\n",
      "disamb\n"
     ]
    },
    {
     "name": "stderr",
     "output_type": "stream",
     "text": [
      "/home/rohitalyosha/anaconda3/envs/mannheim-nel/lib/python3.6/site-packages/ipykernel_launcher.py:58: DeprecationWarning: The 'warn' method is deprecated, use 'warning' instead\n",
      "No existing mmap store found: /home/rohitalyosha/Student_Job/mannheim-nel/data/mmaps/str_necounts.index ...\n"
     ]
    },
    {
     "name": "stdout",
     "output_type": "stream",
     "text": [
      "str_necounts\n"
     ]
    }
   ],
   "source": [
    "for dict_name in dict_names:\n",
    "    d = json_load(f'/home/rohitalyosha/Student_Job/mannheim-nel/data/dicts/{dict_name}.json')\n",
    "    dicts[dict_name] = d\n",
    "    file_store = FileObjectStore(f'/home/rohitalyosha/Student_Job/mannheim-nel/data/mmaps/{dict_name}')\n",
    "    file_store.save_many(d.items())\n",
    "    file_stores[dict_name] = file_store\n",
    "    print(dict_name)"
   ]
  },
  {
   "cell_type": "code",
   "execution_count": 27,
   "metadata": {},
   "outputs": [
    {
     "name": "stdout",
     "output_type": "stream",
     "text": [
      "ent_dict\n",
      "word_dict\n",
      "redirects\n",
      "str_prior\n",
      "str_cond\n",
      "disamb\n",
      "str_necounts\n"
     ]
    }
   ],
   "source": [
    "for dict_name, d in dicts.items():\n",
    "    for k, v in d.items():\n",
    "        assert v == file_stores[dict_name].fetch(k)\n",
    "    print(dict_name)"
   ]
  },
  {
   "cell_type": "code",
   "execution_count": 11,
   "metadata": {},
   "outputs": [
    {
     "name": "stdout",
     "output_type": "stream",
     "text": [
      "AccessibleComputing Computer_accessibility\n",
      "AfghanistanHistory History_of_Afghanistan\n",
      "AfghanistanGeography Geography_of_Afghanistan\n",
      "AfghanistanPeople Demographics_of_Afghanistan\n",
      "AfghanistanCommunications Communications_in_Afghanistan\n",
      "AfghanistanTransportations Transport_in_Afghanistan\n",
      "AfghanistanMilitary Afghan_Armed_Forces\n",
      "AfghanistanTransnationalIssues Foreign_relations_of_Afghanistan\n",
      "AssistiveTechnology Assistive_technology\n",
      "AmoeboidTaxa Amoeba\n"
     ]
    }
   ],
   "source": [
    "for i, (k, v) in enumerate(rd.items()):\n",
    "    if  i == 10:\n",
    "        break\n",
    "    print(k, v)"
   ]
  },
  {
   "cell_type": "code",
   "execution_count": 19,
   "metadata": {},
   "outputs": [
    {
     "name": "stdout",
     "output_type": "stream",
     "text": [
      "287 ns ± 0.0639 ns per loop (mean ± std. dev. of 7 runs, 1000000 loops each)\n"
     ]
    }
   ],
   "source": [
    "%%timeit\n",
    "file.fetch('AccessibleComputing')"
   ]
  },
  {
   "cell_type": "code",
   "execution_count": 20,
   "metadata": {},
   "outputs": [
    {
     "name": "stdout",
     "output_type": "stream",
     "text": [
      "93.8 ns ± 0.0563 ns per loop (mean ± std. dev. of 7 runs, 10000000 loops each)\n"
     ]
    }
   ],
   "source": [
    "%%timeit\n",
    "rd.get('AccessibleComputing')"
   ]
  },
  {
   "cell_type": "code",
   "execution_count": 21,
   "metadata": {},
   "outputs": [
    {
     "name": "stdout",
     "output_type": "stream",
     "text": [
      "269 µs ± 8.32 µs per loop (mean ± std. dev. of 7 runs, 1000 loops each)\n"
     ]
    }
   ],
   "source": [
    "%%timeit\n",
    "rd_sql.get('AccessibleComputing')"
   ]
  },
  {
   "cell_type": "code",
   "execution_count": null,
   "metadata": {},
   "outputs": [],
   "source": []
  }
 ],
 "metadata": {
  "kernelspec": {
   "display_name": "Python (mannheim-nel)",
   "language": "python",
   "name": "mannheim-nel"
  },
  "language_info": {
   "codemirror_mode": {
    "name": "ipython",
    "version": 3
   },
   "file_extension": ".py",
   "mimetype": "text/x-python",
   "name": "python",
   "nbconvert_exporter": "python",
   "pygments_lexer": "ipython3",
   "version": "3.6.7"
  }
 },
 "nbformat": 4,
 "nbformat_minor": 2
}
