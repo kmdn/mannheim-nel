{
 "cells": [
  {
   "cell_type": "code",
   "execution_count": 1,
   "metadata": {},
   "outputs": [],
   "source": [
    "import numpy as np\n",
    "import sys\n",
    "sys.path.append('..')\n",
    "import torch"
   ]
  },
  {
   "cell_type": "code",
   "execution_count": 2,
   "metadata": {},
   "outputs": [],
   "source": [
    "from src.utils.file import FileObjectStore"
   ]
  },
  {
   "cell_type": "code",
   "execution_count": 3,
   "metadata": {},
   "outputs": [],
   "source": [
    "train = FileObjectStore('/home/rohitalyosha/Student_Job/mannheim-nel/data/training_files/conll_new_feature/train')"
   ]
  },
  {
   "cell_type": "code",
   "execution_count": 5,
   "metadata": {},
   "outputs": [
    {
     "data": {
      "text/plain": [
       "\"1 EU||German||Germany||Germany@@0.918356||Germany_national_football_team@@0.01911315||German_Empire@@0.0190971||Germany_national_handball_team@@0.00032060768||German_Confederation@@0.00087550556||Weimar_Republic@@0.004032258||Renewable_energy_in_Germany@@3.6993195e-05||Germany_national_under-21_football_team@@0.0012207754||Germany_at_the_2006_Winter_Olympics@@7.398639e-05||Allied_advance_from_Paris_to_the_Rhine@@3.6993195e-05||Germany_at_the_Winter_Olympics@@2.466213e-05||2009_German_Grand_Prix@@8.631745e-05||Germany_women's_national_ice_hockey_team@@8.631745e-05||History_of_Germany_(1945–90)@@3.6993195e-05||Nazi_Germany@@0.036633804||Germany_women's_national_football_team@@0.0031444214||Germany_at_the_2011_World_Championships_in_Athletics@@1.2331065e-05||History_of_Germany@@0.00024824456||Kingdom_of_Germany@@0.0014057413||Germany_national_youth_football_team@@0.0021332742||GfK_Entertainment_Charts@@0.00085084344||History_of_the_Jews_in_Germany@@0.0008511242||Holy_Roman_Empire@@0.00073986384||West_Germany@@0.00101071||Germany_national_rugby_union_team@@0.0008261813||German_motorcycle_Grand_Prix@@1.2331065e-05||Germany_national_beach_soccer_team@@0.0002466213||German_wine@@0.00073986384||Germany_women's_national_under-20_football_team@@0.00012331064||Germany_at_the_1992_Summer_Olympics@@6.165532e-05||Bundesliga@@0.00024824456||Allied-occupied_Germany@@0.00046858046||Germany_at_the_2015_European_Games@@7.398639e-05||Law_of_Germany@@0.00017731755||Scouting_and_Guiding_in_Germany@@4.932426e-05||Royal_Air_Force_Germany@@6.165532e-05||German_Americans@@0.010887297||Confederation_of_the_Rhine@@4.932426e-05||Germany_men's_national_field_hockey_team@@0.00039459407||Germany_women's_national_field_hockey_team@@0.00029594556||History_of_the_Jews_in_Germany#Jews_under_the_Nazis_(1933-45)@@1.2331065e-05||House_of_Hohenzollern@@2.466213e-05||Germany_at_the_1992_Winter_Olympics@@6.165532e-05||Germany_Fed_Cup_team@@0.00032060768||Germany_national_cricket_team@@0.0002096281||Germany_at_the_2006_Winter_Paralympics@@4.932426e-05||Cinema_of_Germany@@0.008812682||Immigration_to_Germany@@2.466213e-05||History_of_the_Jews_in_Germany#During_the_16th_and_17th_centuries@@1.2331065e-05||Western_Allied_invasion_of_Germany@@9.864852e-05||Rallye_Deutschland@@4.932426e-05||2008_Rallye_Deutschland@@6.165532e-05||Germany_national_long_track_team@@0.00011097958||Bundestag@@3.546351e-05||Germany_Olympic_football_team@@0.0001356417||Germany_in_the_Eurovision_Song_Contest_2014@@3.6993195e-05||Football_in_Germany@@0.0013653451||Germany_men's_national_under-18_ice_hockey_team@@7.398639e-05||German_immigration_to_Puerto_Rico@@9.864852e-05||German_Football_Association@@0.0001356417||Germany_Davis_Cup_team@@0.00030827662||Rugby_union_in_Germany@@6.165532e-05||German_cuisine@@0.0010993688||East_Germany@@0.00031917158||List_of_ambassadors_to_Germany@@1.2331065e-05||Social_Democratic_Party_of_Germany@@1.2331065e-05||1967_German_Grand_Prix@@2.466213e-05||Internet_censorship_in_Germany@@1.2331065e-05||Germany_at_the_2014_Winter_Olympics@@2.466213e-05||Germany_men's_national_volleyball_team@@0.0002096281||Darmstadt@@1.2331065e-05||Germany_women's_national_youth_football_team@@0.00014797278||Germany_national_basketball_team@@0.00085084344||Germany_women's_national_under-17_football_team@@0.00011097958||2014_German_Grand_Prix@@4.932426e-05||Uruguayans_in_Germany@@1.2331065e-05||Germany_men's_national_wheelchair_basketball_team@@4.932426e-05||Mexicans_in_Germany@@2.466213e-05||2010_German_Grand_Prix@@8.631745e-05||German_fashion@@3.6993195e-05||:de:Glücksrad_(Spielshow)#Deutsche_Adaption_als_„Glücksrad“@@1.2331065e-05||Germany_in_the_early_modern_period@@0.00014797278||Operation_Varsity@@3.6993195e-05||1997_German_Grand_Prix@@4.932426e-05||Water_supply_and_sanitation_in_Germany@@7.398639e-05||World_War_II@@1.2331065e-05||Germany_at_the_2010_Winter_Olympics@@4.932426e-05||German_Revolution_of_1918–19@@0.0001356417||Germany_in_the_Eurovision_Song_Contest@@0.00032060768||2012_German_Grand_Prix@@6.165532e-05||1972_German_Grand_Prix@@3.6993195e-05||Germany_at_the_1964_Summer_Paralympics@@1.2331065e-05||1968_German_Grand_Prix@@1.2331065e-05||Germany_men's_national_junior_ice_hockey_team@@4.932426e-05||List_of_non-marine_molluscs_of_Germany@@0.00033293874||Rail_transport_in_Germany@@6.165532e-05||Germany_men's_national_inline_hockey_team@@4.932426e-05||Hockenheimring@@2.466213e-05||Nick_Jr._(Germany)@@2.466213e-05||German_Athletics_Association@@1.2331065e-05||Germany_national_rugby_league_team@@0.00011097958||Germany_at_the_2016_Summer_Olympics@@0.0001356417||Beer_in_Germany@@0.00015958579||Germany_national_under-19_basketball_team@@0.0002096281||Hagen-Hohenlimburg@@1.2331065e-05||Germany_women's_national_volleyball_team@@0.0001726349||Germany_(horse)@@2.466213e-05||Ruhr_Pocket@@1.2331065e-05||German_Samoa@@3.546351e-05||Academic_grading_in_Germany@@1.2331065e-05||2016_World_RX_of_Germany@@1.2331065e-05||Motorsport_Arena_Oschersleben@@1.2331065e-05||1978_German_Grand_Prix@@4.932426e-05||Germany_national_American_football_team@@7.398639e-05||1982_German_Grand_Prix@@4.932426e-05||Solituderennen@@1.2331065e-05||Nürburgring@@2.466213e-05||Germany_national_baseball_team@@0.0001356417||Federal_Intelligence_Service_(Germany)@@3.546351e-05||Solar_power_in_Germany@@0.0004192562||#Brazil_vs_Germany@@2.466213e-05||ProA@@1.2331065e-05||:de:Europ_Assistance@@1.2331065e-05||2016_German_motorcycle_Grand_Prix@@3.6993195e-05||Germany_in_the_Eurovision_Song_Contest_2015@@6.165532e-05||Basketball_Bundesliga@@7.092702e-05||Germany_in_the_Eurovision_Song_Contest_2012@@2.466213e-05||Germany's_Next_Topmodel@@4.932426e-05||Politics_of_Germany@@0.00074473367||Germany_men's_national_ice_hockey_team@@0.00061655324||Germany_women's_national_rugby_union_team@@1.2331065e-05||List_of_LGBT_rights_organizations#Germany@@1.2331065e-05||German_nationality_law@@0.00017731755||Germany_in_the_Eurovision_Song_Contest_2010@@3.6993195e-05||Recognition_of_same-sex_unions_in_Germany@@4.932426e-05||Germania@@0.00011097958||Music_of_Germany@@0.0005319526||Germany_in_the_Eurovision_Song_Contest_2013@@3.6993195e-05||Germany–Poland_relations@@1.2331065e-05||Germany_national_badminton_team@@6.165532e-05||Germany_at_the_2002_Winter_Olympics@@1.7731754e-05||2012_Rallye_Deutschland@@6.165532e-05||United_Team_of_Germany_at_the_1960_Winter_Olympics@@3.6993195e-05||United_Team_of_Germany_at_the_1964_Winter_Olympics@@1.2331065e-05||Germany_at_the_1996_Summer_Olympics@@2.466213e-05||German_Reich@@0.0002096281||Germany_women's_national_handball_team@@0.00028361447||2011_German_Grand_Prix@@0.00025895235||Federal_Ministry_for_Economic_Cooperation_and_Development@@1.2331065e-05||Germany_men's_national_water_polo_team@@0.00012331064||Sport_in_Germany@@1.7731754e-05||Germany_at_the_Olympics@@0.00014797278||Albanians_in_Germany@@4.932426e-05||Germany_at_the_2008_Summer_Olympics@@9.864852e-05||Culture_of_Germany@@0.0003546351||German_Aerospace_Center@@7.092702e-05||East_Francia@@3.6993195e-05||2016_Speedway_Grand_Prix_of_Germany@@1.2331065e-05||List_of_diplomats_of_the_United_Kingdom_to_Germany@@2.466213e-05||West_Germany_at_the_1968_Summer_Paralympics@@1.2331065e-05||2003_German_Grand_Prix@@4.932426e-05||2005_German_Grand_Prix@@3.6993195e-05||2011_Rallye_Deutschland@@2.466213e-05||1969_German_Grand_Prix@@4.932426e-05||1988_German_Grand_Prix@@0.00011097958||Germany_national_under-19_speedway_team@@2.466213e-05||Germany_national_speedway_team@@0.00012331064||Deutsche_Eishockey_Liga@@4.932426e-05||Social_market_economy@@1.2331065e-05||2013_German_motorcycle_Grand_Prix@@2.466213e-05||2015_German_motorcycle_Grand_Prix@@3.6993195e-05||Bohemia@@1.2331065e-05||German_Renaissance@@7.092702e-05||Vietnamese_people_in_Germany@@3.6993195e-05||Kingdom_of_Saxony@@1.7731754e-05||Germany_in_the_Eurovision_Song_Contest_2003@@2.466213e-05||2008_German_motorcycle_Grand_Prix@@1.2331065e-05||Germany_at_the_1912_Summer_Olympics@@4.932426e-05||Weimr_Republic@@1.2331065e-05||Anti-nuclear_movement_in_Germany@@3.6993195e-05||Telephone_numbers_in_Germany@@2.466213e-05||Federal_Ministry_of_Defence_(Germany)@@2.466213e-05||Education_in_Germany@@0.00011097958||Germany_in_the_Eurovision_Song_Contest_2016@@2.466213e-05||1970_German_Grand_Prix@@2.466213e-05||Germany_national_under-21_speedway_team@@1.2331065e-05||German_occupation_of_Norway@@1.7731754e-05||2016_German_Grand_Prix@@4.932426e-05||Germany_national_under-17_basketball_team@@1.2331065e-05||Germany_national_bandy_team@@9.864852e-05||1975_German_Grand_Prix@@8.631745e-05||1976_German_Grand_Prix@@2.466213e-05||German_Basketball_Federation@@1.2331065e-05||Germany_women's_national_under-18_ice_hockey_team@@4.932426e-05||Unification_of_Germany@@8.631745e-05||List_of_Canadian_ambassadors_to_Germany@@2.466213e-05||Germany–Israel_relations@@1.2331065e-05||1994_German_Grand_Prix@@3.6993195e-05||Germany_national_youth_football_team#Germany_national_under-17_squad@@3.6993195e-05||1971_German_Grand_Prix@@2.466213e-05||Television_in_Germany@@0.00021278104||List_of_German_records_in_athletics@@1.2331065e-05||Formula_One_drivers_from_Germany@@1.2331065e-05||Germans@@0.14862756||2008_German_Grand_Prix@@3.6993195e-05||2013_German_Grand_Prix@@0.00011097958||2006_German_Grand_Prix@@4.932426e-05||President_of_Germany@@1.2331065e-05||Northern_Germany@@3.6993195e-05||Apostolic_Nuncio_to_Germany@@2.466213e-05||1985_German_Grand_Prix@@4.932426e-05||Kingdom_of_Prussia@@2.466213e-05||Spartacus_League@@1.2331065e-05||List_of_diplomatic_missions_of_Germany@@4.932426e-05||Elterngeld@@1.2331065e-05||Germany_at_the_2000_Summer_Olympics@@1.7731754e-05||Germany#Third_Reich@@1.2331065e-05||Strafgesetzbuch_section_86a@@1.2331065e-05||Ford_Germany@@5.319526e-05||British_Forces_Germany@@3.6993195e-05||German_Rugby_Federation@@7.398639e-05||#Men’s_team_Germany@@1.2331065e-05||Embassy_of_Germany,_Washington,_D.C.@@1.7731754e-05||Communist_Party_of_Germany@@3.546351e-05||Germany_at_the_Hopman_Cup@@4.932426e-05||A1_Team_Germany@@0.00028361447||Wind_power_in_Germany@@0.00023429023||Demographics_of_Germany@@5.319526e-05||Flag_of_Germany@@8.631745e-05||2010_Rallye_Deutschland@@2.466213e-05||German_Open_(badminton)@@0.00014185403||German_school_of_fencing@@5.319526e-05||1997_German_motorcycle_Grand_Prix@@1.2331065e-05||Germany_in_the_Eurovision_Song_Contest_1957@@3.6993195e-05||Germany_at_the_2014_Summer_Youth_Olympics@@1.2331065e-05||Germany_at_the_2012_Summer_Olympics@@0.0002096281||British_Army_of_the_Rhine@@1.2331065e-05||1974_German_Grand_Prix@@6.165532e-05||Germany_at_the_2004_Summer_Olympics@@3.6993195e-05||Germany_national_youth_football_team#Germany_national_under-19_squad@@4.932426e-05||Germany_women's_national_wheelchair_basketball_team@@1.2331065e-05||Germany_national_under-18_rugby_union_team@@1.2331065e-05||Healthcare_in_Germany@@2.466213e-05||Kiautschou_Bay_concession@@1.2331065e-05||Germany_at_the_1996_Summer_Paralympics@@1.2331065e-05||German_Sports_Badge@@1.2331065e-05||German_colonial_empire@@0.00015958579||Germany_at_the_Paralympics@@2.466213e-05||Bundeswehr@@0.00095751474||Germany_in_the_Eurovision_Song_Contest_2011@@2.466213e-05||Germany_women's_national_basketball_team@@1.2331065e-05||Bundesverband_Musikindustrie@@4.932426e-05||Kleinstaaterei@@1.2331065e-05||Health_in_Germany@@1.2331065e-05||Germany_national_under-19_cricket_team@@1.2331065e-05||Order_of_Merit_of_the_Federal_Republic_of_Germany@@2.466213e-05\""
      ]
     },
     "execution_count": 5,
     "metadata": {},
     "output_type": "execute_result"
    }
   ],
   "source": [
    "train[0]"
   ]
  },
  {
   "cell_type": "code",
   "execution_count": 6,
   "metadata": {},
   "outputs": [],
   "source": [
    "v1 = torch.load('/home/rohitalyosha/Student_Job/mannheim-nel/data/models/conll_v0.1.pt', map_location='cpu')['state_dict']\n",
    "new = torch.load('/home/rohitalyosha/Student_Job/mannheim-nel/data/models/conll_new_feature_21.pt', map_location='cpu')['state_dict']"
   ]
  },
  {
   "cell_type": "code",
   "execution_count": 7,
   "metadata": {},
   "outputs": [
    {
     "name": "stdout",
     "output_type": "stream",
     "text": [
      "word_embs.weight torch.Size([705169, 300])\n",
      "ent_embs.weight torch.Size([957208, 300])\n",
      "orig_linear.weight torch.Size([300, 300])\n",
      "orig_linear.bias torch.Size([300])\n",
      "hidden.weight torch.Size([2000, 605])\n",
      "hidden.bias torch.Size([2000])\n",
      "output.weight torch.Size([1, 2000])\n",
      "output.bias torch.Size([1])\n"
     ]
    }
   ],
   "source": [
    "for k,v in v1.items():\n",
    "    print(k, v.shape)"
   ]
  },
  {
   "cell_type": "code",
   "execution_count": 8,
   "metadata": {},
   "outputs": [
    {
     "name": "stdout",
     "output_type": "stream",
     "text": [
      "word_embs.weight torch.Size([705169, 300])\n",
      "ent_embs.weight torch.Size([957208, 300])\n",
      "orig_linear.weight torch.Size([300, 300])\n",
      "orig_linear.bias torch.Size([300])\n",
      "hidden.weight torch.Size([2000, 606])\n",
      "hidden.bias torch.Size([2000])\n",
      "output.weight torch.Size([1, 2000])\n",
      "output.bias torch.Size([1])\n"
     ]
    }
   ],
   "source": [
    "for k,v in new.items():\n",
    "    print(k, v.shape)"
   ]
  },
  {
   "cell_type": "code",
   "execution_count": 10,
   "metadata": {},
   "outputs": [
    {
     "data": {
      "text/plain": [
       "tensor(1, dtype=torch.uint8)"
      ]
     },
     "execution_count": 10,
     "metadata": {},
     "output_type": "execute_result"
    }
   ],
   "source": [
    "torch.all(v1['word_embs.weight'] == new['word_embs.weight'])"
   ]
  },
  {
   "cell_type": "code",
   "execution_count": 11,
   "metadata": {},
   "outputs": [
    {
     "data": {
      "text/plain": [
       "tensor(1, dtype=torch.uint8)"
      ]
     },
     "execution_count": 11,
     "metadata": {},
     "output_type": "execute_result"
    }
   ],
   "source": [
    "torch.all(v1['ent_embs.weight'] == new['ent_embs.weight'])"
   ]
  },
  {
   "cell_type": "code",
   "execution_count": 14,
   "metadata": {},
   "outputs": [
    {
     "name": "stdout",
     "output_type": "stream",
     "text": [
      "word_embs.weight tensor(1, dtype=torch.uint8)\n",
      "ent_embs.weight tensor(1, dtype=torch.uint8)\n",
      "orig_linear.weight tensor(0, dtype=torch.uint8)\n",
      "orig_linear.bias tensor(0, dtype=torch.uint8)\n",
      "hidden.bias tensor(0, dtype=torch.uint8)\n",
      "output.weight tensor(0, dtype=torch.uint8)\n",
      "output.bias tensor(0, dtype=torch.uint8)\n"
     ]
    }
   ],
   "source": [
    "for k in v1.keys():\n",
    "    try:\n",
    "        print(k, torch.all(v1[k] == new[k]))\n",
    "    except:\n",
    "        pass"
   ]
  },
  {
   "cell_type": "code",
   "execution_count": null,
   "metadata": {},
   "outputs": [],
   "source": []
  }
 ],
 "metadata": {
  "kernelspec": {
   "display_name": "Python (mannheim-nel)",
   "language": "python",
   "name": "mannheim-nel"
  },
  "language_info": {
   "codemirror_mode": {
    "name": "ipython",
    "version": 3
   },
   "file_extension": ".py",
   "mimetype": "text/x-python",
   "name": "python",
   "nbconvert_exporter": "python",
   "pygments_lexer": "ipython3",
   "version": "3.6.7"
  }
 },
 "nbformat": 4,
 "nbformat_minor": 2
}
